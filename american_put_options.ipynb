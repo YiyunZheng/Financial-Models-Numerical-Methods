{
 "cells": [
  {
   "cell_type": "code",
   "execution_count": 4,
   "outputs": [],
   "source": [
    "import numpy as np\n",
    "import scipy.stats as ss\n",
    "\n",
    "from scipy import sparse\n",
    "from scipy.sparse.linalg import splu\n",
    "from time import time\n"
   ],
   "metadata": {
    "collapsed": false,
    "ExecuteTime": {
     "end_time": "2023-09-08T04:35:02.850830700Z",
     "start_time": "2023-09-08T04:35:02.818331400Z"
    }
   },
   "id": "8328a387a7d32979"
  },
  {
   "cell_type": "code",
   "execution_count": 5,
   "id": "initial_id",
   "metadata": {
    "collapsed": true,
    "ExecuteTime": {
     "end_time": "2023-09-08T04:35:03.267790Z",
     "start_time": "2023-09-08T04:35:03.260289300Z"
    }
   },
   "outputs": [],
   "source": [
    "class Option_param:\n",
    "    \"\"\"\n",
    "    Option class wants the option parameters:\n",
    "    S0 = current stock price\n",
    "    K = Strike price\n",
    "    T = time to maturity\n",
    "    v0 = (optional) spot variance\n",
    "    exercise = European or American\n",
    "    \"\"\"\n",
    "\n",
    "    def __init__(self, S0=15, K=15, T=1, v0=0.04, payoff=\"call\", exercise=\"European\"):\n",
    "        self.S0 = S0\n",
    "        self.v0 = v0\n",
    "        self.K = K\n",
    "        self.T = T\n",
    "\n",
    "        if exercise == \"European\" or exercise == \"American\":\n",
    "            self.exercise = exercise\n",
    "        else:\n",
    "            raise ValueError(\"invalid type. Set 'European' or 'American'\")\n",
    "\n",
    "        if payoff == \"call\" or payoff == \"put\":\n",
    "            self.payoff = payoff\n",
    "        else:\n",
    "            raise ValueError(\"invalid type. Set 'call' or 'put'\")"
   ]
  },
  {
   "cell_type": "code",
   "execution_count": 6,
   "outputs": [],
   "source": [
    "class Diffusion_process:\n",
    "    \"\"\"\n",
    "    Class for the diffusion process:\n",
    "    r = risk free constant rate\n",
    "    sig = constant diffusion coefficient\n",
    "    mu = constant drift\n",
    "    \"\"\"\n",
    "\n",
    "    def __init__(self, r=0.1, sig=0.2, mu=0.1):\n",
    "        self.r = r\n",
    "        self.mu = mu\n",
    "        if sig <= 0:\n",
    "            raise ValueError(\"sig must be positive\")\n",
    "        else:\n",
    "            self.sig = sig\n",
    "\n",
    "    def exp_RV(self, S0, T, N):\n",
    "        W = ss.norm.rvs((self.r - 0.5 * self.sig**2) * T, np.sqrt(T) * self.sig, N)\n",
    "        S_T = S0 * np.exp(W)\n",
    "        return S_T.reshape((N, 1))"
   ],
   "metadata": {
    "collapsed": false,
    "ExecuteTime": {
     "end_time": "2023-09-08T04:35:03.624239800Z",
     "start_time": "2023-09-08T04:35:03.603205Z"
    }
   },
   "id": "863078fbfc0503e7"
  },
  {
   "cell_type": "code",
   "execution_count": 7,
   "outputs": [],
   "source": [
    "class BS_pricer:\n",
    "    \"\"\"\n",
    "    Closed Formula.\n",
    "    Monte Carlo.\n",
    "    Finite-difference Black-Scholes PDE:\n",
    "     df/dt + r df/dx + 1/2 sigma^2 d^f/dx^2 -rf = 0\n",
    "    \"\"\"\n",
    "\n",
    "    def __init__(self, Option_info, Process_info):\n",
    "        \"\"\"\n",
    "        Option_info: of type Option_param. It contains (S0,K,T)\n",
    "                i.e. current price, strike, maturity in years\n",
    "        Process_info: of type Diffusion_process. It contains (r, mu, sig) i.e.\n",
    "                interest rate, drift coefficient, diffusion coefficient\n",
    "        \"\"\"\n",
    "        self.r = Process_info.r  # interest rate\n",
    "        self.sig = Process_info.sig  # diffusion coefficient\n",
    "        self.S0 = Option_info.S0  # current price\n",
    "        self.K = Option_info.K  # strike\n",
    "        self.T = Option_info.T  # maturity in years\n",
    "        self.exp_RV = Process_info.exp_RV  # function to generate solution of GBM\n",
    "\n",
    "        self.price = 0\n",
    "        self.S_vec = None\n",
    "        self.price_vec = None\n",
    "        self.mesh = None\n",
    "        self.exercise = Option_info.exercise\n",
    "        self.payoff = Option_info.payoff\n",
    "\n",
    "    def payoff_f(self, S):\n",
    "        if self.payoff == \"call\":\n",
    "            Payoff = np.maximum(S - self.K, 0)\n",
    "        elif self.payoff == \"put\":\n",
    "            Payoff = np.maximum(self.K - S, 0)\n",
    "        return Payoff\n",
    "\n",
    "    @staticmethod\n",
    "    def BlackScholes(payoff=\"call\", S0=100.0, K=100.0, T=1.0, r=0.1, sigma=0.2):\n",
    "        \"\"\"Black Scholes closed formula:\n",
    "        payoff: call or put.\n",
    "        S0: float.    initial stock/index level.\n",
    "        K: float strike price.\n",
    "        T: float maturity (in year fractions).\n",
    "        r: float constant risk-free short rate.\n",
    "        sigma: volatility factor in diffusion term.\"\"\"\n",
    "\n",
    "        d1 = (np.log(S0 / K) + (r + sigma**2 / 2) * T) / (sigma * np.sqrt(T))\n",
    "        d2 = (np.log(S0 / K) + (r - sigma**2 / 2) * T) / (sigma * np.sqrt(T))\n",
    "\n",
    "        if payoff == \"call\":\n",
    "            return S0 * ss.norm.cdf(d1) - K * np.exp(-r * T) * ss.norm.cdf(d2)\n",
    "        elif payoff == \"put\":\n",
    "            return K * np.exp(-r * T) * ss.norm.cdf(-d2) - S0 * ss.norm.cdf(-d1)\n",
    "        else:\n",
    "            raise ValueError(\"invalid type. Set 'call' or 'put'\")\n",
    "\n",
    "    @staticmethod\n",
    "    def vega(sigma, S0, K, T, r):\n",
    "        \"\"\"BS vega: derivative of the price with respect to the volatility\"\"\"\n",
    "        d1 = (np.log(S0 / K) + (r + sigma**2 / 2) * T) / (sigma * np.sqrt(T))\n",
    "        return S0 * np.sqrt(T) * ss.norm.pdf(d1)\n",
    "\n",
    "\n",
    "    def PDE_price(self, steps, Time=False, solver=\"splu\"):\n",
    "        \"\"\"\n",
    "        steps = tuple with number of space steps and time steps\n",
    "        payoff = \"call\" or \"put\"\n",
    "        exercise = \"European\" or \"American\"\n",
    "        Time = Boolean. Execution time.\n",
    "        Solver = spsolve or splu or Thomas or SOR\n",
    "        \"\"\"\n",
    "        t_init = time()\n",
    "\n",
    "        Nspace = steps[0]\n",
    "        Ntime = steps[1]\n",
    "\n",
    "        S_max = 6 * float(self.K)\n",
    "        S_min = float(self.K) / 6\n",
    "        x_max = np.log(S_max)\n",
    "        x_min = np.log(S_min)\n",
    "        x0 = np.log(self.S0)  # current log-price\n",
    "\n",
    "        x, dx = np.linspace(x_min, x_max, Nspace, retstep=True)\n",
    "        t, dt = np.linspace(0, self.T, Ntime, retstep=True)\n",
    "\n",
    "        self.S_vec = np.exp(x)  # vector of S\n",
    "        Payoff = self.payoff_f(self.S_vec)\n",
    "\n",
    "        V = np.zeros((Nspace, Ntime))\n",
    "        if self.payoff == \"call\":\n",
    "            V[:, -1] = Payoff\n",
    "            V[-1, :] = np.exp(x_max) - self.K * np.exp(-self.r * t[::-1])\n",
    "            V[0, :] = 0\n",
    "        else:\n",
    "            V[:, -1] = Payoff\n",
    "            V[-1, :] = 0\n",
    "            V[0, :] = Payoff[0] * np.exp(-self.r * t[::-1])  # Instead of Payoff[0] I could use K\n",
    "            # For s to 0, the limiting value is e^(-rT)(K-s)\n",
    "\n",
    "        sig2 = self.sig**2\n",
    "        dxx = dx**2\n",
    "        a = (dt / 2) * ((self.r - 0.5 * sig2) / dx - sig2 / dxx)\n",
    "        b = 1 + dt * (sig2 / dxx + self.r)\n",
    "        c = -(dt / 2) * ((self.r - 0.5 * sig2) / dx + sig2 / dxx)\n",
    "\n",
    "        D = sparse.diags([a, b, c], [-1, 0, 1], shape=(Nspace - 2, Nspace - 2)).tocsc()\n",
    "\n",
    "        offset = np.zeros(Nspace - 2)\n",
    "\n",
    "        if solver == \"splu\":\n",
    "            DD = splu(D)\n",
    "            if self.exercise == \"European\":\n",
    "                for i in range(Ntime - 2, -1, -1):\n",
    "                    offset[0] = a * V[0, i]\n",
    "                    offset[-1] = c * V[-1, i]\n",
    "                    V[1:-1, i] = DD.solve(V[1:-1, i + 1] - offset)\n",
    "            elif self.exercise == \"American\":\n",
    "                for i in range(Ntime - 2, -1, -1):\n",
    "                    offset[0] = a * V[0, i]\n",
    "                    offset[-1] = c * V[-1, i]\n",
    "                    V[1:-1, i] = np.maximum(DD.solve(V[1:-1, i + 1] - offset), Payoff[1:-1])\n",
    "        else:\n",
    "            raise ValueError(\"Solver is splu, spsolve, SOR or Thomas\")\n",
    "\n",
    "        self.price = np.interp(x0, x, V[:, 0])\n",
    "        self.price_vec = V[:, 0]\n",
    "        self.mesh = V\n",
    "\n",
    "        if Time is True:\n",
    "            elapsed = time() - t_init\n",
    "            return self.price, elapsed\n",
    "        else:\n",
    "            return self.price\n",
    "\n",
    "    def LSM(self, N=10000, paths=10000, order=2):\n",
    "        \"\"\"\n",
    "        Longstaff-Schwartz Method for pricing American options\n",
    "\n",
    "        N = number of time steps\n",
    "        paths = number of generated paths\n",
    "        order = order of the polynomial for the regression\n",
    "        \"\"\"\n",
    "\n",
    "        if self.payoff != \"put\":\n",
    "            raise ValueError(\"invalid type. Set 'call' or 'put'\")\n",
    "\n",
    "        dt = self.T / (N - 1)  # time interval\n",
    "        df = np.exp(-self.r * dt)  # discount factor per time time interval\n",
    "\n",
    "        X0 = np.zeros((paths, 1))\n",
    "        increments = ss.norm.rvs(\n",
    "            loc=(self.r - self.sig**2 / 2) * dt,\n",
    "            scale=np.sqrt(dt) * self.sig,\n",
    "            size=(paths, N - 1),\n",
    "        )\n",
    "        X = np.concatenate((X0, increments), axis=1).cumsum(1)\n",
    "        S = self.S0 * np.exp(X)\n",
    "\n",
    "        H = np.maximum(self.K - S, 0)  # intrinsic values for put option\n",
    "        V = np.zeros_like(H)  # value matrix\n",
    "        V[:, -1] = H[:, -1]\n",
    "\n",
    "        # Valuation by LS Method\n",
    "        for t in range(N - 2, 0, -1):\n",
    "            good_paths = H[:, t] > 0\n",
    "            rg = np.polyfit(S[good_paths, t], V[good_paths, t + 1] * df, 2)  # polynomial regression\n",
    "            C = np.polyval(rg, S[good_paths, t])  # evaluation of regression\n",
    "\n",
    "            exercise = np.zeros(len(good_paths), dtype=bool)\n",
    "            exercise[good_paths] = H[good_paths, t] > C\n",
    "\n",
    "            V[exercise, t] = H[exercise, t]\n",
    "            V[exercise, t + 1 :] = 0\n",
    "            discount_path = V[:, t] == 0\n",
    "            V[discount_path, t] = V[discount_path, t + 1] * df\n",
    "\n",
    "        V0 = np.mean(V[:, 1]) * df  #\n",
    "        return V0"
   ],
   "metadata": {
    "collapsed": false,
    "ExecuteTime": {
     "end_time": "2023-09-08T04:35:04.027201900Z",
     "start_time": "2023-09-08T04:35:03.997703300Z"
    }
   },
   "id": "52f3a0153354273e"
  },
  {
   "cell_type": "code",
   "execution_count": 8,
   "outputs": [],
   "source": [
    "# Creates the object with the parameters of the option\n",
    "opt_param = Option_param(S0=100, K=100, T=1, exercise=\"American\", payoff=\"put\")\n",
    "# Creates the object with the parameters of the process\n",
    "diff_param = Diffusion_process(r=0.1, sig=0.2)\n",
    "# Creates the pricer object\n",
    "BS = BS_pricer(opt_param, diff_param)"
   ],
   "metadata": {
    "collapsed": false,
    "ExecuteTime": {
     "end_time": "2023-09-08T04:35:04.629614300Z",
     "start_time": "2023-09-08T04:35:04.626614700Z"
    }
   },
   "id": "852bf2b9af6df45"
  },
  {
   "cell_type": "code",
   "execution_count": 9,
   "outputs": [
    {
     "data": {
      "text/plain": "4.674893974879958"
     },
     "execution_count": 9,
     "metadata": {},
     "output_type": "execute_result"
    }
   ],
   "source": [
    "BS.LSM(N=10000, paths=10000, order=2)  # Longstaff Schwartz Method"
   ],
   "metadata": {
    "collapsed": false,
    "ExecuteTime": {
     "end_time": "2023-09-08T04:35:34.326261Z",
     "start_time": "2023-09-08T04:35:05.330261400Z"
    }
   },
   "id": "66796d3df5be80ce"
  },
  {
   "cell_type": "code",
   "execution_count": 10,
   "outputs": [
    {
     "data": {
      "text/plain": "4.815638949372102"
     },
     "execution_count": 10,
     "metadata": {},
     "output_type": "execute_result"
    }
   ],
   "source": [
    "N_space = 8000\n",
    "N_time = 5000\n",
    "BS.PDE_price((N_space, N_time))"
   ],
   "metadata": {
    "collapsed": false,
    "ExecuteTime": {
     "end_time": "2023-09-08T04:35:38.040072700Z",
     "start_time": "2023-09-08T04:35:36.706072500Z"
    }
   },
   "id": "ff4255b529dd2fd8"
  },
  {
   "cell_type": "code",
   "execution_count": null,
   "outputs": [],
   "source": [],
   "metadata": {
    "collapsed": false
   },
   "id": "25f35f439cfbeda5"
  }
 ],
 "metadata": {
  "kernelspec": {
   "display_name": "Python 3",
   "language": "python",
   "name": "python3"
  },
  "language_info": {
   "codemirror_mode": {
    "name": "ipython",
    "version": 2
   },
   "file_extension": ".py",
   "mimetype": "text/x-python",
   "name": "python",
   "nbconvert_exporter": "python",
   "pygments_lexer": "ipython2",
   "version": "2.7.6"
  }
 },
 "nbformat": 4,
 "nbformat_minor": 5
}
